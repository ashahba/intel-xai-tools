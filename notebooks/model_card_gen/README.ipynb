{
 "cells": [
  {
   "cell_type": "markdown",
   "metadata": {},
   "source": [
    "# Model Card Generator Tutorial Notebooks\n",
    "This directory has Jupyter notebooks that demonstrate model card generation using Intel® Explainable AI Tools.\n",
    "\n",
    "| Notebook | Domain: Use Case | Framework | Description |\n",
    "| :---------: | :---------: | :-----------: | ------------- |\n",
    "| [Generating a Model Card with PyTorch](./model_card_generation_with_pytorch)| Numerical/Categorical: Tabular Classification | PyTorch | Demonstrates training a multilayer network using the \"Adult\" dataset from the UCI repository to predict whether a person has a salary greater or less than $50,000. The Model Card Generator is then used to to create a model card with interactive graphics to analyze the model. |\n",
    "| [Detecting Issues in Fairness by generating a Model Card from TensorFlow Estimators](./compas_with_model_card_gen) | Numerical/Categorical: Tabular Classification  | TensorFlow | Utilizes a TFX pipeline to train and evaluate a model using the COMPAS (Correctional Offender Management Profiling for Alternative Sanctions) dataset to generate a risk score indended to determine a defendant's likelihood of reoffending. The Model Card Generator is then used to create interative graphics visualizing racial bias in the model's predictions. |\n",
    "| [Creating Model Card for Toxic Comments Classification in TensorFlow](./toxic_comments_classification) | Numerical/Categorical: Tabular Classification | TensorFlow | Adapts a [TensorFlow Fairness Exercise notebook](https://colab.research.google.com/github/google/eng-edu/blob/main/ml/pc/exercises/fairness_text_toxicity_part1.ipynb?utm_source=practicum-fairness&utm_campaign=colab-external&utm_medium=referral&utm_content=fairnessexercise1-colab#scrollTo=2z_xzJ40j9Q-) to use the Model Card Generator. The notebook trains a model to detect toxicity in online coversations and graphically analyzes accuracy metrics by gender. |\n",
    "| [Creating Model Card for Hate Speech Detection using Hugging Face model](hugging_face_model_card) | Numerical/Categorical: Tabular Classification | PyTorch | Utilizes a model hosted on Hugging Face Hub for detecting hatespeech in English language using the HateXplain dataset. The Model Card Generator is then used to create a model card with interactive graphics to analyze the model performance metrics at threshold and Bias AUC metric for target groups. |\n",
    "| [Multiclass classification of Hate Speech using Hugging Face model](multiclass_classification) | Numerical/Categorical: Tabular Classification | PyTorch | Uses a model hosted on Hugging Face Hub for classifying hate speech into Hate, Offensive, or Normal categories using the HateXplain dataset. The Model Card Generator is then used to create a model card with individual interactive graphics for each class to analyze the model performance metrics at threshold and the Bias AUC metric for target groups. |\n",
    "\n"
   ]
  }
 ],
 "metadata": {
  "kernelspec": {
   "display_name": "Python 3 (ipykernel)",
   "language": "python",
   "name": "python3"
  },
  "language_info": {
   "codemirror_mode": {
    "name": "ipython",
    "version": 3
   },
   "file_extension": ".py",
   "mimetype": "text/x-python",
   "name": "python",
   "nbconvert_exporter": "python",
   "pygments_lexer": "ipython3",
   "version": "3.10.12"
  }
 },
 "nbformat": 4,
 "nbformat_minor": 4
}
